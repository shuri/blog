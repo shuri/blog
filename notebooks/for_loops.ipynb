{
  "nbformat": 4,
  "nbformat_minor": 0,
  "metadata": {
    "colab": {
      "name": "for loops are slow.ipynb",
      "provenance": [],
      "collapsed_sections": []
    },
    "kernelspec": {
      "name": "python3",
      "display_name": "Python 3"
    }
  },
  "cells": [
    {
      "cell_type": "code",
      "metadata": {
        "id": "scu2VfRTh1TK",
        "colab_type": "code",
        "colab": {}
      },
      "source": [
        "import time\n",
        "import numpy as np"
      ],
      "execution_count": 0,
      "outputs": []
    },
    {
      "cell_type": "markdown",
      "metadata": {
        "id": "XOAbSR-Bj8vY",
        "colab_type": "text"
      },
      "source": [
        "# Seed it with the same number every time, predictably random... ish."
      ]
    },
    {
      "cell_type": "code",
      "metadata": {
        "id": "anXa7NFqj3bd",
        "colab_type": "code",
        "colab": {}
      },
      "source": [
        "np.random.seed(3141)"
      ],
      "execution_count": 0,
      "outputs": []
    },
    {
      "cell_type": "markdown",
      "metadata": {
        "id": "GqWNPAK0kGtz",
        "colab_type": "text"
      },
      "source": [
        "# Let's create a \"big\" matrix."
      ]
    },
    {
      "cell_type": "code",
      "metadata": {
        "id": "wY70ajKUh8gQ",
        "colab_type": "code",
        "colab": {}
      },
      "source": [
        "TRAINING_DATA = np.random.random_sample((150,150))"
      ],
      "execution_count": 0,
      "outputs": []
    },
    {
      "cell_type": "markdown",
      "metadata": {
        "id": "CBEg5bk4kLeD",
        "colab_type": "text"
      },
      "source": [
        "# Method to sum the matrix \"manually\" using a for loop."
      ]
    },
    {
      "cell_type": "code",
      "metadata": {
        "id": "nUy2kqkTiF1L",
        "colab_type": "code",
        "colab": {
          "base_uri": "https://localhost:8080/",
          "height": 35
        },
        "outputId": "ec1723b5-2583-401a-9102-c45e2a23bbf3"
      },
      "source": [
        "def for_loop_sum(m):\n",
        "  sum = 0.0\n",
        "  for i in range(m.shape[0]):\n",
        "    for j in range(m.shape[1]):\n",
        "      sum += m[i,j]\n",
        "  return sum\n",
        "for_loop_sum(TRAINING_DATA)"
      ],
      "execution_count": 36,
      "outputs": [
        {
          "output_type": "execute_result",
          "data": {
            "text/plain": [
              "11262.573889806963"
            ]
          },
          "metadata": {
            "tags": []
          },
          "execution_count": 36
        }
      ]
    },
    {
      "cell_type": "markdown",
      "metadata": {
        "id": "8aegWWHCjm2w",
        "colab_type": "text"
      },
      "source": [
        "# Run for_loop_sum a few times, and let's time it."
      ]
    },
    {
      "cell_type": "code",
      "metadata": {
        "id": "LsHLhF9gjdqa",
        "colab_type": "code",
        "colab": {
          "base_uri": "https://localhost:8080/",
          "height": 35
        },
        "outputId": "59c63003-09b7-48a4-f160-d9460f1ff07f"
      },
      "source": [
        "# Some global definitions.\n",
        "MANY_TIMES = 1000\n",
        "\n",
        "def run_sum_it(m, many_times):\n",
        "  before = time.time()\n",
        "  for k in range(many_times):\n",
        "    for_loop_sum(m)\n",
        "  after = time.time()\n",
        "  print(\"{} repetitions of the for_loop_sum took {} seconds.\".format(many_times, after - before))\n",
        "  return (after - before)\n",
        "\n",
        "SUM_FOR_LOOP_TIME = run_sum_it(TRAINING_DATA, MANY_TIMES)"
      ],
      "execution_count": 37,
      "outputs": [
        {
          "output_type": "stream",
          "text": [
            "1000 repetitions of the for_loop_sum took 5.719250440597534 seconds.\n"
          ],
          "name": "stdout"
        }
      ]
    },
    {
      "cell_type": "markdown",
      "metadata": {
        "id": "svJSgcWelCl3",
        "colab_type": "text"
      },
      "source": [
        "# Now let's give numpy a try"
      ]
    },
    {
      "cell_type": "markdown",
      "metadata": {
        "id": "64JvjqHWlXFk",
        "colab_type": "text"
      },
      "source": [
        "## Sanity check, do we get the same answer?"
      ]
    },
    {
      "cell_type": "code",
      "metadata": {
        "id": "v5KCZT8HjwFe",
        "colab_type": "code",
        "colab": {
          "base_uri": "https://localhost:8080/",
          "height": 35
        },
        "outputId": "c665b49d-af73-40d1-df45-a875d89edc1d"
      },
      "source": [
        "np.sum(TRAINING_DATA)"
      ],
      "execution_count": 38,
      "outputs": [
        {
          "output_type": "execute_result",
          "data": {
            "text/plain": [
              "11262.573889806867"
            ]
          },
          "metadata": {
            "tags": []
          },
          "execution_count": 38
        }
      ]
    },
    {
      "cell_type": "markdown",
      "metadata": {
        "id": "2Q_kdlTQlcDA",
        "colab_type": "text"
      },
      "source": [
        "## Cool, let's repeat many_times"
      ]
    },
    {
      "cell_type": "code",
      "metadata": {
        "id": "p0qWh5vklO_8",
        "colab_type": "code",
        "colab": {
          "base_uri": "https://localhost:8080/",
          "height": 35
        },
        "outputId": "3320c986-88c6-4b80-a11a-c1587eb65629"
      },
      "source": [
        "def run_np_sum(m, many_times):\n",
        "  before = time.time()\n",
        "  for k in range(many_times):\n",
        "    np.sum(m)\n",
        "  after = time.time()\n",
        "  print(\"{} repetitions of the np.sum took {} seconds.\".format(many_times, after - before))\n",
        "  return (after - before)\n",
        "NP_SUM_TIME = run_np_sum(TRAINING_DATA, MANY_TIMES)\n"
      ],
      "execution_count": 39,
      "outputs": [
        {
          "output_type": "stream",
          "text": [
            "1000 repetitions of the np.sum took 0.01809859275817871 seconds.\n"
          ],
          "name": "stdout"
        }
      ]
    },
    {
      "cell_type": "code",
      "metadata": {
        "id": "mtm3Xv4YoFLh",
        "colab_type": "code",
        "colab": {
          "base_uri": "https://localhost:8080/",
          "height": 35
        },
        "outputId": "31f454a2-9a17-496b-d7b4-8c4f57c30194"
      },
      "source": [
        "print(\"np.sum was {} much faster\".format(SUM_FOR_LOOP_TIME / NP_SUM_TIME))"
      ],
      "execution_count": 40,
      "outputs": [
        {
          "output_type": "stream",
          "text": [
            "np.sum was 316.0052561552344 much faster\n"
          ],
          "name": "stdout"
        }
      ]
    },
    {
      "cell_type": "code",
      "metadata": {
        "id": "0IEaLetBp3QW",
        "colab_type": "code",
        "colab": {}
      },
      "source": [
        ""
      ],
      "execution_count": 0,
      "outputs": []
    }
  ]
}