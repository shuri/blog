{
  "nbformat": 4,
  "nbformat_minor": 0,
  "metadata": {
    "colab": {
      "name": "7 ways to get files and code into colab.ipynb",
      "provenance": [],
      "collapsed_sections": []
    },
    "kernelspec": {
      "name": "python3",
      "display_name": "Python 3"
    }
  },
  "cells": [
    {
      "cell_type": "markdown",
      "metadata": {
        "id": "KYqGLMUVdHCa",
        "colab_type": "text"
      },
      "source": [
        "# Colab?\n",
        "Jupyter hosted by google with free CPU and GPU resources."
      ]
    },
    {
      "cell_type": "markdown",
      "metadata": {
        "id": "f7KAfAO_itz2",
        "colab_type": "text"
      },
      "source": [
        "# 1. Install stuff with pip\n"
      ]
    },
    {
      "cell_type": "code",
      "metadata": {
        "id": "Vw_YdG8DjVr_",
        "colab_type": "code",
        "colab": {}
      },
      "source": [
        "!pip install flask"
      ],
      "execution_count": 0,
      "outputs": []
    },
    {
      "cell_type": "markdown",
      "metadata": {
        "id": "EvzmEdJ8cMmV",
        "colab_type": "text"
      },
      "source": [
        "# 2. Latest or custom source? Git clone it!\n",
        "**Note:** be sure to review what you import!"
      ]
    },
    {
      "cell_type": "code",
      "metadata": {
        "id": "sbUAgBVEcKCZ",
        "colab_type": "code",
        "colab": {}
      },
      "source": [
        "# Git clone something.\n",
        "!git clone https://github.com/pallets/flask.git"
      ],
      "execution_count": 0,
      "outputs": []
    },
    {
      "cell_type": "code",
      "metadata": {
        "id": "gauXswUycoqc",
        "colab_type": "code",
        "colab": {}
      },
      "source": [
        "# Add to path so you can import it\n",
        "from pathlib import Path\n",
        "import sys\n",
        "sys.path.append(str(Path.cwd()/\"flask/src\"))"
      ],
      "execution_count": 0,
      "outputs": []
    },
    {
      "cell_type": "code",
      "metadata": {
        "id": "33r6l2ZhcyCX",
        "colab_type": "code",
        "colab": {}
      },
      "source": [
        "# Finally import it\n",
        "import flask"
      ],
      "execution_count": 0,
      "outputs": []
    },
    {
      "cell_type": "markdown",
      "metadata": {
        "id": "Q-_Xr1cEiEvd",
        "colab_type": "text"
      },
      "source": [
        "# 3. Random web stuff? Use wget\n",
        "Fetch files using commands on the shell."
      ]
    },
    {
      "cell_type": "code",
      "metadata": {
        "id": "mZjh9psPiWwO",
        "colab_type": "code",
        "colab": {}
      },
      "source": [
        "! wget -O yahoo.html http://yahoo.com"
      ],
      "execution_count": 0,
      "outputs": []
    },
    {
      "cell_type": "markdown",
      "metadata": {
        "id": "yDPcj0IEikW-",
        "colab_type": "text"
      },
      "source": [
        "# 4. Web stuff but programmatically."
      ]
    },
    {
      "cell_type": "code",
      "metadata": {
        "id": "P479Ojq4ifNn",
        "colab_type": "code",
        "colab": {}
      },
      "source": [
        "from urllib.request import urlopen\n",
        "with urlopen(\"http://google.com\") as f:\n",
        "  data = f.read()\n",
        "  with open(\"google.html\", \"wb\") as of:\n",
        "    of.write(data)"
      ],
      "execution_count": 0,
      "outputs": []
    },
    {
      "cell_type": "markdown",
      "metadata": {
        "id": "_p7naoIPcDMG",
        "colab_type": "text"
      },
      "source": [
        "# 5. Colab specific: Use the colab interface."
      ]
    },
    {
      "cell_type": "markdown",
      "metadata": {
        "id": "XnGejOHTeD5X",
        "colab_type": "text"
      },
      "source": [
        "# 6. Colab specific: Upload file via code"
      ]
    },
    {
      "cell_type": "code",
      "metadata": {
        "id": "rECx0Rwsdzpt",
        "colab_type": "code",
        "colab": {}
      },
      "source": [
        "from google.colab import files\n",
        "\n",
        "uploaded = files.upload()\n",
        "\n",
        "for fn in uploaded.keys():\n",
        "  print('User uploaded file \"{name}\" with length {length} bytes'.format(\n",
        "      name=fn, length=len(uploaded[fn])))"
      ],
      "execution_count": 0,
      "outputs": []
    },
    {
      "cell_type": "markdown",
      "metadata": {
        "id": "_4wgsgjCdOD4",
        "colab_type": "text"
      },
      "source": [
        "# 7. Colab specific: Mount google drive.\n",
        "\n"
      ]
    },
    {
      "cell_type": "code",
      "metadata": {
        "id": "42lmzySjdV-w",
        "colab_type": "code",
        "colab": {}
      },
      "source": [
        "# Mount your drive to this running notebook.\n",
        "from google.colab import drive\n",
        "drive.mount('/content/drive')"
      ],
      "execution_count": 0,
      "outputs": []
    },
    {
      "cell_type": "code",
      "metadata": {
        "id": "qLep9OFwhtz8",
        "colab_type": "code",
        "colab": {}
      },
      "source": [
        "import os\n",
        "# The directory \"/content/drive/My Drive\" is the root of your google drive.\n",
        "google_drive_root_dir = \"/content/drive/My Drive\"\n",
        "# Read from and write to your drive.\n",
        "with open(os.path.join(google_drive_root_dir, \"foo.txt\"), \"w\") as f:\n",
        "  f.write(\"Hello twitter!\")\n",
        "!cat /content/drive/My\\ Drive/foo.txt"
      ],
      "execution_count": 0,
      "outputs": []
    },
    {
      "cell_type": "code",
      "metadata": {
        "id": "fx-rf855h4O6",
        "colab_type": "code",
        "colab": {}
      },
      "source": [
        "# And unmount your drive (making sure all dara is written to disk)\n",
        "drive.flush_and_unmount()\n",
        "print('All changes made in this colab session should now be visible in Drive.')"
      ],
      "execution_count": 0,
      "outputs": []
    },
    {
      "cell_type": "markdown",
      "metadata": {
        "id": "_cDEq8OFlQ4p",
        "colab_type": "text"
      },
      "source": [
        "# 7. Other sources\n",
        "Check this [out](https://colab.research.google.com/notebooks/io.ipyn)"
      ]
    }
  ]
}